{
 "cells": [
  {
   "cell_type": "code",
   "execution_count": 1,
   "id": "ad7c728c-2efc-47e7-9770-7b7323a7135e",
   "metadata": {},
   "outputs": [],
   "source": [
    "from transformers import AutoModelForCausalLM, AutoTokenizer, pipeline, BitsAndBytesConfig\n",
    "from transformers import TextStreamer, TextIteratorStreamer\n",
    "import torch\n",
    "device = 'cuda' if torch.cuda.is_available() else 'cpu'"
   ]
  },
  {
   "cell_type": "code",
   "execution_count": 2,
   "id": "e311aac9-2a26-450a-aebd-cb119611e89d",
   "metadata": {},
   "outputs": [
    {
     "data": {
      "application/vnd.jupyter.widget-view+json": {
       "model_id": "950098ca7e2f49c294007778d2c94976",
       "version_major": 2,
       "version_minor": 0
      },
      "text/plain": [
       "Loading checkpoint shards:   0%|          | 0/2 [00:00<?, ?it/s]"
      ]
     },
     "metadata": {},
     "output_type": "display_data"
    }
   ],
   "source": [
    "model_id = \"google/gemma-2-2b-it\"\n",
    "\n",
    "quantization_config = BitsAndBytesConfig(load_in_4bit=True,\n",
    "                                        bnb_4bit_compute_dtype=torch.float16)\n",
    "\n",
    "tokenizer = AutoTokenizer.from_pretrained(\"google/gemma-2-2b-it\")\n",
    "model = AutoModelForCausalLM.from_pretrained(\n",
    "    \"google/gemma-2-2b-it\",\n",
    "    torch_dtype=torch.float16,\n",
    "    quantization_config=quantization_config,\n",
    "    low_cpu_mem_usage=True,\n",
    ")\n",
    "\n",
    "chat = [\n",
    "    { \"role\": \"user\", \"content\": \"hello how are you?.\"},\n",
    "]\n",
    "question = tokenizer.apply_chat_template(chat, tokenize=False, add_generation_prompt=True)\n",
    "\n",
    "question = tokenizer(question, return_tensors=\"pt\").to(device)\n",
    "\n",
    "streamer = TextStreamer(tokenizer, skip_prompt=True)"
   ]
  },
  {
   "cell_type": "code",
   "execution_count": 3,
   "id": "5321ff6e-fde4-4b2c-a6f9-a1ce0cf90628",
   "metadata": {},
   "outputs": [],
   "source": [
    "streamer = TextStreamer(tokenizer, skip_prompt=True)"
   ]
  },
  {
   "cell_type": "code",
   "execution_count": 4,
   "id": "cb2e2bde-f057-43bf-8e1f-20df8b13b5a6",
   "metadata": {},
   "outputs": [
    {
     "name": "stdout",
     "output_type": "stream",
     "text": [
      "<transformers.generation.streamers.TextStreamer object at 0x7fe9e2ac2ce0>\n"
     ]
    }
   ],
   "source": [
    "print(streamer)"
   ]
  },
  {
   "cell_type": "code",
   "execution_count": 6,
   "id": "2b0d0386-0375-46ca-b5a1-0110f5aaafd6",
   "metadata": {},
   "outputs": [
    {
     "name": "stdout",
     "output_type": "stream",
     "text": [
      "I'm doing well, thank you! 😊  How can I help you today? \n",
      "\n",
      "Let me know if you have any questions or need anything. 😄 \n",
      "<end_of_turn>\n"
     ]
    }
   ],
   "source": [
    "_ = model.generate(**question, streamer=streamer,\n",
    "                            pad_token_id=tokenizer.eos_token_id,\n",
    "                            temperature=0.1,\n",
    "                            max_length=2048,\n",
    "                            do_sample=True,\n",
    "                            top_p=0.5,\n",
    "                            repetition_penalty=1.25)\n"
   ]
  },
  {
   "cell_type": "code",
   "execution_count": 31,
   "id": "78f2e805-cb04-41ed-8eb1-639e5f27ad5f",
   "metadata": {},
   "outputs": [
    {
     "name": "stdout",
     "output_type": "stream",
     "text": [
      "tensor([[     2,      2,    106,   1645,    108,  17534,   1368,    708,    692,\n",
      "          10481,    107,    108,    106,   2516,    108, 235285, 235303, 235262,\n",
      "           3900,   1578, 235269,   7593,    692, 235341,  44416,    139,   2299,\n",
      "            798,    590,   1707,    692,   3646, 235336, 235248,    109,   5331,\n",
      "            682,   1230,   1013,    692,    791,   1089,   3920,    689,   1476,\n",
      "           4341, 235265, 123781, 235248,    108,    107]], device='cuda:0')\n"
     ]
    }
   ],
   "source": [
    "print(_)"
   ]
  },
  {
   "cell_type": "code",
   "execution_count": 30,
   "id": "ff8d248b-d57c-4e99-81a5-ddf69fdde716",
   "metadata": {},
   "outputs": [],
   "source": [
    "decode_text = tokenizer.decode(_[0], skip_special_tokens=True)"
   ]
  },
  {
   "cell_type": "code",
   "execution_count": 29,
   "id": "b3b36d57-8ffe-48c5-80b8-44da1926049d",
   "metadata": {
    "scrolled": true
   },
   "outputs": [
    {
     "name": "stdout",
     "output_type": "stream",
     "text": [
      "user\n",
      "hello how are you?.\n",
      "model\n",
      "I'm doing well, thank you! 😊  How can I help you today? \n",
      "\n",
      "Let me know if you have any questions or need anything. 😄 \n",
      "\n"
     ]
    }
   ],
   "source": [
    "print(decode_text)"
   ]
  },
  {
   "cell_type": "code",
   "execution_count": null,
   "id": "a1eb1f6e-e710-409c-9bfc-eb6a17688c8f",
   "metadata": {},
   "outputs": [],
   "source": []
  }
 ],
 "metadata": {
  "kernelspec": {
   "display_name": "rag_scratch",
   "language": "python",
   "name": "rag_scratch"
  },
  "language_info": {
   "codemirror_mode": {
    "name": "ipython",
    "version": 3
   },
   "file_extension": ".py",
   "mimetype": "text/x-python",
   "name": "python",
   "nbconvert_exporter": "python",
   "pygments_lexer": "ipython3",
   "version": "3.10.12"
  }
 },
 "nbformat": 4,
 "nbformat_minor": 5
}
